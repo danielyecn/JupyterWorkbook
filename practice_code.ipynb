{
 "cells": [
  {
   "cell_type": "code",
   "execution_count": null,
   "metadata": {},
   "outputs": [],
   "source": [
    "import fnmatch\n",
    "a = df.columns.tolist()\n",
    "y_list = fnmatch.filter(a,'Y_*')\n",
    "df['y'] = df[y_list[0]]+df[y_list[1]]+df[y_list[2]]\n",
    "tv_list = fnmatch.filter(a,'M_Tv_Spend_No5*')\n",
    "\n",
    "df['tv']=df[tv_list].sum(axis=1)\n",
    "mag_list = fnmatch.filter(a, 'M_Mag_Spend_No5*')\n",
    "df['mag'] = df[mag_list].sum(axis=1)\n",
    "otv_list = fnmatch.filter(a, 'M_Otv_Spend_No5*')\n",
    "df['otv'] = df[otv_list].sum(axis=1)\n",
    "dis_list = fnmatch.filter(a, 'M_Dis_Spend_No5*')\n",
    "df['dis'] = df[dis_list].sum(axis=1)\n",
    "search_list = fnmatch.filter(a, 'M_Search_Spend_No5*')\n",
    "df['search'] = df[search_list].sum(axis=1)\n",
    "ooh_list = fnmatch.filter(a, 'M_Ooh_Spend_No5*')\n",
    "df['ooh'] = df[ooh_list].sum(axis=1)\n",
    "\n",
    "df = df.pipe(adstock_batch_create, adstock_dict)\n",
    "item=['tv_adstock','dis_adstock','mag_adstock',\n",
    "      'otv_adstock']"
   ]
  },
  {
   "cell_type": "code",
   "execution_count": null,
   "metadata": {},
   "outputs": [],
   "source": [
    "mapping_a ={}\n",
    "paid_media_abc=['tv','otv','display']\n",
    "\n",
    "for col in df.columns:\n",
    "    if col.split('_')[0] in paid_media_abc and col.split('_')[-1]=='adstock':\n",
    "        mapping_a[col] = 'paid_media'\n",
    "    elif col.split('_')[0] in paid_media_abc and col.split('_')[-1]!='adstock':\n",
    "        mapping_a[col] = 'media_spend'\n",
    "    elif col.split('_')[0] =='competitor':\n",
    "        mapping_a[col] = 'competitor'\n",
    "    else:\n",
    "        mapping_a['Intercept'] = 'intercept'\n",
    "\n",
    "seasonality = [col for col in model.contribution().columns if col.startswith('C')]\n",
    "mapping_a.update(dict.fromkeys(seasonality, 'seasonality'))\n",
    "mapping_a"
   ]
  }
 ],
 "metadata": {
  "kernelspec": {
   "display_name": "Python 3",
   "language": "python",
   "name": "python3"
  },
  "language_info": {
   "codemirror_mode": {
    "name": "ipython",
    "version": 3
   },
   "file_extension": ".py",
   "mimetype": "text/x-python",
   "name": "python",
   "nbconvert_exporter": "python",
   "pygments_lexer": "ipython3",
   "version": "3.6.4"
  }
 },
 "nbformat": 4,
 "nbformat_minor": 2
}
